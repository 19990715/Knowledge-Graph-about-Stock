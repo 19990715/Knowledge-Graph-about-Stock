{
 "cells": [
  {
   "cell_type": "markdown",
   "id": "bd954094",
   "metadata": {},
   "source": [
    "# Build KG"
   ]
  },
  {
   "cell_type": "markdown",
   "id": "4d2f1edb",
   "metadata": {},
   "source": [
    "### CSV method\n",
    "LOAD CSV WITH HEADERS FROM 'file:///stock2.csv' AS row   \n",
    "MERGE (s:Stock{name:row.name})  \n",
    "MERGE (c:Code{code:row.code})  \n",
    "MERGE (l:Logreturn{logreturn:row.logreturn})  \n",
    "MERGE (p:Price{price:row.price})  \n",
    "MERGE (v:Volume{volume:row.volume})  \n",
    "MERGE (t:Turnover{turnover:row.turnover})  \n",
    "MERGE (s)-[r:HAS_CODE]->(c)"
   ]
  },
  {
   "cell_type": "markdown",
   "id": "aa53cbc3",
   "metadata": {},
   "source": [
    "### some sigle node create mannuly  \n",
    "MATCH (n1{ name: 'Apple' })  \n",
    "create(a1:ARTICLE{content:\"Apple manufactures Smartphones, tablets, PCs, software and peripherals for a worldwide customer base. Its products include Mac desktop and mobile PCs, iPhone, iPad, Apple Watch, and various consumer products, including AirPods, Beats headphones and Apple TV. Apple services include App Store, iTunes, iCloud, Apple TV+, Apple Arcade, Apple Music, Apple Pay, and more.\"})  \n",
    "create (n1)-[r6:SAID]->(a1)"
   ]
  },
  {
   "cell_type": "markdown",
   "id": "4ed07627",
   "metadata": {},
   "source": [
    "### sparqlanything method\n",
    "PREFIX st: <http://ns.inria.fr/sparql-template/>  \n",
    "PREFIX xyz: <http://sparql.xyz/facade-x/data/>  \n",
    "PREFIX rdf: <http://www.w3.org/1999/02/22-rdf-syntax-ns#>  \n",
    "PREFIX fx: <http://sparql.xyz/facade-x/ns/>  \n",
    " \n",
    "#SELECT ?stockName ?sk  \n",
    "CONSTRUCT { ?stockName ?sk ?lowest_price  }  \n",
    "WHERE {  \n",
    "\n",
    "    SERVICE <x-sparql-anything:file:///Users/fusi/Desktop/ds/individual_project/demo/american_stock.json> {  \n",
    "        ?s xyz:stock_code ?sk ;  \n",
    "           xyz:stock_name ?stockName ;  \n",
    "           xyz:lowest_price ?lowest_price ;  \n",
    "           xyz:volume ?volume;  \n",
    "           xyz:turnover ?turnover;  \n",
    "                  #xyz:stars ?star .  \n",
    "    #Filter (?star IN (xyz:LisaKudrow)).  \n",
    "           \n",
    "    }  \n",
    "\n",
    "}  "
   ]
  },
  {
   "cell_type": "markdown",
   "id": "8858a488",
   "metadata": {},
   "source": [
    "### some cypher example\n",
    "all relevent nodes of 'world stocks market'. \n",
    "MATCH (c:Entity{name:\"World stocks market\"})-[r*0..]->(result) return result  \n",
    "\n",
    "max logreturn and relevent stock. \n",
    "MATCH (m:Logreturn)  \n",
    "with max(m.logreturn) as max  \n",
    "match (l{logreturn:max})  \n",
    "match (l)-[:LOGRETURN]-(s:Stock)  \n",
    "return s.name,max  \n",
    "\n",
    "The article that The Fed provide is negative  \n",
    "MATCH (n{name:'The Fed'})-[:SAID]->(a:ARTICLE)-[:SENTIMENT]->(e{sentiment:\"NEGATIVE\"})  \n",
    "return count(a.content)  "
   ]
  }
 ],
 "metadata": {
  "kernelspec": {
   "display_name": "Python 3 (ipykernel)",
   "language": "python",
   "name": "python3"
  },
  "language_info": {
   "codemirror_mode": {
    "name": "ipython",
    "version": 3
   },
   "file_extension": ".py",
   "mimetype": "text/x-python",
   "name": "python",
   "nbconvert_exporter": "python",
   "pygments_lexer": "ipython3",
   "version": "3.8.2"
  }
 },
 "nbformat": 4,
 "nbformat_minor": 5
}
