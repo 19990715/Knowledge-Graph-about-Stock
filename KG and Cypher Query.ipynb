{
 "cells": [
  {
   "cell_type": "markdown",
   "id": "bd954094",
   "metadata": {},
   "source": [
    "# Knowledge Graph and Cypher Query"
   ]
  },
  {
   "cell_type": "markdown",
   "id": "4d2f1edb",
   "metadata": {},
   "source": [
    "### CSV method\n",
    "LOAD CSV WITH HEADERS FROM 'file:///stock2.csv' AS row   \n",
    "MERGE (s:Stock{name:row.name})  \n",
    "MERGE (c:Code{code:row.code})  \n",
    "MERGE (l:Logreturn{logreturn:row.logreturn})  \n",
    "MERGE (p:Price{price:row.price})  \n",
    "MERGE (v:Volume{volume:row.volume})  \n",
    "MERGE (t:Turnover{turnover:row.turnover})  \n",
    "MERGE (s)-[r:HAS_CODE]->(c)"
   ]
  },
  {
   "cell_type": "markdown",
   "id": "aa53cbc3",
   "metadata": {},
   "source": [
    "### some sigle node create mannuly  \n",
    "MATCH (n1{ name: 'Apple' })  \n",
    "create(a1:ARTICLE{content:\"Apple manufactures Smartphones, tablets, PCs, software and peripherals for a worldwide customer base. Its products include Mac desktop and mobile PCs, iPhone, iPad, Apple Watch, and various consumer products, including AirPods, Beats headphones and Apple TV. Apple services include App Store, iTunes, iCloud, Apple TV+, Apple Arcade, Apple Music, Apple Pay, and more.\"})  \n",
    "create (n1)-[r6:SAID]->(a1)"
   ]
  },
  {
   "cell_type": "markdown",
   "id": "4ed07627",
   "metadata": {},
   "source": [
    "### sparqlanything method\n",
    "PREFIX st: <http://ns.inria.fr/sparql-template/>  \n",
    "PREFIX xyz: <http://sparql.xyz/facade-x/data/>  \n",
    "PREFIX rdf: <http://www.w3.org/1999/02/22-rdf-syntax-ns#>  \n",
    "PREFIX fx: <http://sparql.xyz/facade-x/ns/>  \n",
    " \n",
    "#SELECT ?stockName ?sk  \n",
    "CONSTRUCT { ?stockName ?sk ?lowest_price  }  \n",
    "WHERE {  \n",
    "\n",
    "    SERVICE <x-sparql-anything:file:///Users/fusi/Desktop/ds/individual_project/demo/american_stock.json> {  \n",
    "        ?s xyz:stock_code ?sk ;  \n",
    "           xyz:stock_name ?stockName ;  \n",
    "           xyz:lowest_price ?lowest_price ;  \n",
    "           xyz:volume ?volume;  \n",
    "           xyz:turnover ?turnover;  \n",
    "                  #xyz:stars ?star .  \n",
    "    #Filter (?star IN (xyz:LisaKudrow)).  \n",
    "           \n",
    "    }  \n",
    "\n",
    "}  "
   ]
  },
  {
   "cell_type": "markdown",
   "id": "8858a488",
   "metadata": {},
   "source": [
    "### some cypher example\n",
    "all relevent nodes of 'world stocks market'. \n",
    "MATCH (c:Entity{name:\"World stocks market\"})-[r*0..]->(result) return result  \n",
    "\n",
    "max logreturn and relevent stock. \n",
    "MATCH (m:Logreturn)  \n",
    "with max(m.logreturn) as max  \n",
    "match (l{logreturn:max})  \n",
    "match (l)-[:LOGRETURN]-(s:Stock)  \n",
    "return s.name,max  \n",
    "\n",
    "The article that The Fed provide is negative  \n",
    "MATCH (n{name:'The Fed'})-[:SAID]->(a:ARTICLE)-[:SENTIMENT]->(e{sentiment:\"NEGATIVE\"})  \n",
    "return count(a.content)  "
   ]
  },
  {
   "cell_type": "markdown",
   "id": "eeac14b7",
   "metadata": {},
   "source": [
    "# use tf-idf to calculate the similarity"
   ]
  },
  {
   "cell_type": "code",
   "execution_count": null,
   "id": "a5e879a2",
   "metadata": {},
   "outputs": [],
   "source": [
    "import nltk\n",
    "nltk.download('stopwords')\n",
    "from sklearn.feature_extraction.text import CountVectorizer\n",
    "from sklearn.feature_extraction.text import TfidfTransformer\n",
    "from nltk.corpus import stopwords\n",
    "import numpy as np\n",
    "import numpy.linalg as LA\n",
    "\n",
    "train_set = ['Research firm Argus has reported a rise in the number of clients seeking its analysis of the UK\\'s stock market in the month of November, compared with the previous 12 months, which saw a sharp fall in the value of shares across the board.']\n",
    "test_set = ['Gross domestic product (GDP) fell by 0.3% in April 2022, following a fall of 0.1% in March 2022; UK GDP grew by 0.2% in the three months to April 2022.']\n",
    "stopWords = stopwords.words('english')\n",
    "\n",
    "vectorizer = CountVectorizer(stop_words = stopWords)\n",
    "#print vectorizer\n",
    "transformer = TfidfTransformer()\n",
    "#print transformer\n",
    "\n",
    "trainVectorizerArray = vectorizer.fit_transform(train_set).toarray()\n",
    "testVectorizerArray = vectorizer.transform(test_set).toarray()\n",
    "#print 'Fit Vectorizer to train set', trainVectorizerArray\n",
    "#print 'Transform Vectorizer to test set', testVectorizerArray\n",
    "cx = lambda a, b : round(np.inner(a, b)/(LA.norm(a)*LA.norm(b)), 3)\n",
    "\n",
    "for vector in trainVectorizerArray:\n",
    "    #print(vector)\n",
    "    for testV in testVectorizerArray:\n",
    "        #print(testV)\n",
    "        cosine = cx(vector, testV)\n",
    "        print(\"1\")\n",
    "        print(cosine)\n",
    "\n",
    "transformer.fit(trainVectorizerArray)\n",
    "\n",
    "transformer.transform(trainVectorizerArray).toarray()\n",
    "\n",
    "#print(transformer.fit(testVectorizerArray))\n",
    "\n",
    "tfidf = transformer.transform(testVectorizerArray)\n",
    "#print(tfidf.todense())"
   ]
  },
  {
   "cell_type": "markdown",
   "id": "da594635",
   "metadata": {},
   "source": [
    "## Precision-Recall Curve"
   ]
  },
  {
   "cell_type": "code",
   "execution_count": null,
   "id": "93dcd14e",
   "metadata": {},
   "outputs": [],
   "source": [
    "import matplotlib\n",
    "import numpy as np\n",
    "import matplotlib.pyplot as plt\n",
    "#from sklearn.metrics import precision_recall_curve\n",
    "#from sklearn.utils.fixes import signature\n",
    "plt.figure(\"P-R Curve\")\n",
    "plt.title('Precision/Recall Curve')\n",
    "plt.xlabel('Recall')\n",
    "plt.ylabel('Precision')\n",
    "\n",
    "\n",
    "precision = [1,0.9677,0.8194,0.7387,0.6735,0.5323,0]\n",
    "recall = [0,0.5615,0.6596,0.7550,0.8134,0.9615,1]\n",
    "plt.plot(recall,precision)\n",
    "plt.show()\n"
   ]
  }
 ],
 "metadata": {
  "kernelspec": {
   "display_name": "Python 3 (ipykernel)",
   "language": "python",
   "name": "python3"
  },
  "language_info": {
   "codemirror_mode": {
    "name": "ipython",
    "version": 3
   },
   "file_extension": ".py",
   "mimetype": "text/x-python",
   "name": "python",
   "nbconvert_exporter": "python",
   "pygments_lexer": "ipython3",
   "version": "3.8.2"
  }
 },
 "nbformat": 4,
 "nbformat_minor": 5
}
