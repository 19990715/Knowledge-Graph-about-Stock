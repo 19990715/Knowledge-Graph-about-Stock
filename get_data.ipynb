{
 "cells": [
  {
   "cell_type": "markdown",
   "id": "20594328",
   "metadata": {},
   "source": [
    "### American stock data"
   ]
  },
  {
   "cell_type": "code",
   "execution_count": null,
   "id": "f6001331",
   "metadata": {},
   "outputs": [],
   "source": [
    "#use akshare api to get the data\n",
    "import akshare as ak\n",
    "import pandas as pd\n",
    "import re\n",
    "import math"
   ]
  },
  {
   "cell_type": "code",
   "execution_count": null,
   "id": "91f75101",
   "metadata": {},
   "outputs": [],
   "source": [
    "#preprocess the data\n",
    "american_stock_df = pd.DataFrame()\n",
    "american_stock_df['stock_name'] = l['名称']\n",
    "american_stock_df['stock_code'] = l['代码']\n",
    "american_stock_df['current_price'] = l['最新价']\n",
    "american_stock_df['udprices'] = l['涨跌额']\n",
    "american_stock_df['highest_price'] = l['最高价']\n",
    "american_stock_df['lowest_price'] = l['最低价']\n",
    "american_stock_df['volume'] = l['成交量']\n",
    "american_stock_df['turnover'] = l['成交额']\n",
    "#american_stock_df.set_index('stock code',inplace = True)\n",
    "american_stock_df"
   ]
  },
  {
   "cell_type": "code",
   "execution_count": null,
   "id": "6aec672b",
   "metadata": {},
   "outputs": [],
   "source": [
    "#drop special characteris and NA\n",
    "ll = []\n",
    "rule = re.compile('^[0-9a-zA-z]{1}.*$')\n",
    "for i in american_stock_df['stock_name']:\n",
    "    if rule.match(i) is None:\n",
    "        ll.append(\"na\")\n",
    "    else:\n",
    "        ll.append('n')\n",
    "\n",
    "american_stock_df.dropna(axis=0, how='any', inplace=True)\n",
    "american_stock_df.shape"
   ]
  },
  {
   "cell_type": "code",
   "execution_count": null,
   "id": "57f086e6",
   "metadata": {},
   "outputs": [],
   "source": [
    "#calculate the logreturn\n",
    "\n",
    "l= 9137\n",
    "\n",
    "df_a['index'] = [1]* l\n",
    "df_a['next_close'] = df_a.groupby('index')['current_price'].shift(-1)\n",
    "\n",
    "\n",
    "#df_a = df_a.drop(index=df_a.index[-1])\n",
    "logreturn = list()\n",
    "for i in df_a.index:\n",
    "      logreturn.append(math.log(df_a['next_close'][i]/df_a['current_price'][i]))\n",
    "american_stock_df['logreturn'] = logreturn\n",
    "   #stock.to_csv(\"financial_data\\\\price_logreturn\\\\\"+l,index=False)\n",
    "\n",
    "american_stock_df"
   ]
  },
  {
   "cell_type": "markdown",
   "id": "1ec610cb",
   "metadata": {},
   "source": [
    "### Use testblob get sentiment"
   ]
  },
  {
   "cell_type": "markdown",
   "id": "20ca3fe3",
   "metadata": {},
   "source": [
    "insights get from:yahoo API,Financial Times,Investing.com and BBC news "
   ]
  },
  {
   "cell_type": "code",
   "execution_count": null,
   "id": "efbda3b3",
   "metadata": {},
   "outputs": [],
   "source": [
    "import pandas as pd\n",
    "import numpy as np\n",
    "import nltk\n",
    "nltk.download('stopwords')\n",
    "nltk.download('punkt')\n",
    "from nltk.corpus import stopwords\n",
    "from string import punctuation\n",
    "import re\n",
    "import numpy as np\n",
    "from nltk.stem import PorterStemmer\n",
    "from nltk.stem import WordNetLemmatizer\n",
    "from nltk import word_tokenize, pos_tag\n",
    "from nltk.corpus import wordnet\n",
    "from textblob import TextBlob\n",
    "\n",
    "summary_df=pd.read_csv('insights_sum.csv') "
   ]
  },
  {
   "cell_type": "code",
   "execution_count": null,
   "id": "e1031a32",
   "metadata": {},
   "outputs": [],
   "source": [
    "def getSentiment(file):\n",
    "    scoreList = []\n",
    "    score = []\n",
    "    with open(file) as f:\n",
    "        lines = f.readlines()\n",
    "    for line in lines:\n",
    "        blob = TextBlob(line)\n",
    "        b = blob.sentiment.polarity\n",
    "        score.append(b)\n",
    "        if b > 0:\n",
    "            scoreList.append(\"positive\")\n",
    "        else:\n",
    "            scoreList.append(\"negative\")\n",
    "        #trans.append(s)\n",
    "        #print(b)\n",
    "    return scoreList,score\n",
    "'''\n",
    "        for word in trans:\n",
    "          if word not in stop_words:\n",
    "            wordList.append(word)\n",
    "        lineList.append(wordList)\n",
    "        wordList = []\n",
    "'''\n",
    "    \n",
    "pd.set_option('display.width', 1000)\n",
    "pd.set_option('display.max_colwidth', 1000)\n",
    "scoreList,score = getSentiment(\"summary.txt\")\n",
    "summary_df['Polarity_score'] = score\n",
    "summary_df['sentiment'] = scoreList\n",
    "\n",
    "#summary_df"
   ]
  }
 ],
 "metadata": {
  "kernelspec": {
   "display_name": "Python 3 (ipykernel)",
   "language": "python",
   "name": "python3"
  },
  "language_info": {
   "codemirror_mode": {
    "name": "ipython",
    "version": 3
   },
   "file_extension": ".py",
   "mimetype": "text/x-python",
   "name": "python",
   "nbconvert_exporter": "python",
   "pygments_lexer": "ipython3",
   "version": "3.8.2"
  }
 },
 "nbformat": 4,
 "nbformat_minor": 5
}
